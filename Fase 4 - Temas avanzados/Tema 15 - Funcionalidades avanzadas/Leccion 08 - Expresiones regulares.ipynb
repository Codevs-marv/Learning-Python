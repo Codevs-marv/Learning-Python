{
 "cells": [
  {
   "cell_type": "markdown",
   "metadata": {},
   "source": [
    "# Expresiones regulares"
   ]
  },
  {
   "cell_type": "code",
   "execution_count": 2,
   "metadata": {
    "collapsed": true
   },
   "outputs": [
    {
     "name": "stdout",
     "output_type": "stream",
     "text": [
      "Se ha encontrado la palabra\n"
     ]
    }
   ],
   "source": [
    "# re.search: Buscar un patrón en una cadena\n",
    "\n",
    "\n",
    "import re\n",
    "\n",
    "texto = 'En esta cadena se encuentra una palabra mágica'\n",
    "\n",
    "re.search('mágica', texto)\n",
    "\n",
    "\n",
    "palabra = 'mágica'\n",
    "encontrado = re.search(palabra, texto)\n",
    "\n",
    "if encontrado is not None:\n",
    "    print('Se ha encontrado la palabra')\n",
    "else:\n",
    "    print('No se ha encontrado la palabra')"
   ]
  },
  {
   "cell_type": "code",
   "execution_count": 5,
   "metadata": {},
   "outputs": [
    {
     "name": "stdout",
     "output_type": "stream",
     "text": [
      "40 - 46\n"
     ]
    }
   ],
   "source": [
    "inicio = encontrado.start() # donde empieza la coincidencia\n",
    "fin = encontrado.end()   # donde finaliza la coincidencia\n",
    "\n",
    "print(inicio,'-', fin)"
   ]
  }
 ],
 "metadata": {
  "anaconda-cloud": {},
  "kernelspec": {
   "display_name": "Python [default]",
   "language": "python",
   "name": "python3"
  },
  "language_info": {
   "codemirror_mode": {
    "name": "ipython",
    "version": 3
   },
   "file_extension": ".py",
   "mimetype": "text/x-python",
   "name": "python",
   "nbconvert_exporter": "python",
   "pygments_lexer": "ipython3",
   "version": "3.12.1"
  }
 },
 "nbformat": 4,
 "nbformat_minor": 0
}
