{
 "cells": [
  {
   "cell_type": "markdown",
   "metadata": {},
   "source": [
    "# Expresiones regulares"
   ]
  },
  {
   "cell_type": "code",
   "execution_count": 2,
   "metadata": {
    "collapsed": true
   },
   "outputs": [
    {
     "name": "stdout",
     "output_type": "stream",
     "text": [
      "Se ha encontrado la palabra\n"
     ]
    }
   ],
   "source": [
    "# re.search: Buscar un patrón en una cadena\n",
    "\n",
    "\n",
    "import re\n",
    "\n",
    "texto = 'En esta cadena se encuentra una palabra mágica'\n",
    "\n",
    "re.search('mágica', texto)\n",
    "\n",
    "\n",
    "palabra = 'mágica'\n",
    "encontrado = re.search(palabra, texto)\n",
    "\n",
    "if encontrado is not None:\n",
    "    print('Se ha encontrado la palabra')\n",
    "else:\n",
    "    print('No se ha encontrado la palabra')"
   ]
  },
  {
   "cell_type": "code",
   "execution_count": 5,
   "metadata": {},
   "outputs": [
    {
     "name": "stdout",
     "output_type": "stream",
     "text": [
      "40 - 46\n"
     ]
    }
   ],
   "source": [
    "inicio = encontrado.start() # donde empieza la coincidencia\n",
    "fin = encontrado.end()   # donde finaliza la coincidencia\n",
    "\n",
    "print(inicio,'-', fin)"
   ]
  },
  {
   "cell_type": "code",
   "execution_count": 6,
   "metadata": {},
   "outputs": [
    {
     "data": {
      "text/plain": [
       "<re.Match object; span=(0, 4), match='Hola'>"
      ]
     },
     "execution_count": 6,
     "metadata": {},
     "output_type": "execute_result"
    }
   ],
   "source": [
    "# re.match: Buscar un patrón al principio de una cadena\n",
    "\n",
    "texto = 'Hola'\n",
    "re.match('Hola', texto)"
   ]
  },
  {
   "cell_type": "code",
   "execution_count": 7,
   "metadata": {},
   "outputs": [
    {
     "data": {
      "text/plain": [
       "['Esta cadena se divide aquí', ' luego sigue otra.']"
      ]
     },
     "execution_count": 7,
     "metadata": {},
     "output_type": "execute_result"
    }
   ],
   "source": [
    "# re.split: Dividir una cadena a partir de un patron\n",
    "\n",
    "texto = 'Esta cadena se divide aquí, luego sigue otra.'\n",
    "re.split(',', texto)"
   ]
  },
  {
   "cell_type": "code",
   "execution_count": 11,
   "metadata": {},
   "outputs": [
    {
     "data": {
      "text/plain": [
       "'Hola como ya sabes todo va muy bien'"
      ]
     },
     "execution_count": 11,
     "metadata": {},
     "output_type": "execute_result"
    }
   ],
   "source": [
    "# re.sub: Sustituye todas las coincidencias en una cadena\n",
    "\n",
    "texto = 'Hola,como,ya,sabes,todo,va,muy,bien'\n",
    "\n",
    "re.sub(',', ' ', texto)"
   ]
  },
  {
   "cell_type": "code",
   "execution_count": 14,
   "metadata": {},
   "outputs": [
    {
     "name": "stdout",
     "output_type": "stream",
     "text": [
      "['hola', 'hola', 'hola'] 3\n"
     ]
    }
   ],
   "source": [
    "# re.findall: Buscar todas las coincidencias en una cadena\n",
    "\n",
    "texto = 'hol adios hola holaa adios hola'\n",
    "lista = re.findall('hola', texto)\n",
    "cantidad = len(lista)\n",
    "\n",
    "print(lista, cantidad)"
   ]
  }
 ],
 "metadata": {
  "anaconda-cloud": {},
  "kernelspec": {
   "display_name": "Python [default]",
   "language": "python",
   "name": "python3"
  },
  "language_info": {
   "codemirror_mode": {
    "name": "ipython",
    "version": 3
   },
   "file_extension": ".py",
   "mimetype": "text/x-python",
   "name": "python",
   "nbconvert_exporter": "python",
   "pygments_lexer": "ipython3",
   "version": "3.12.1"
  }
 },
 "nbformat": 4,
 "nbformat_minor": 0
}
