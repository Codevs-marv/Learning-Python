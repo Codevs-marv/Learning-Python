{
 "cells": [
  {
   "cell_type": "markdown",
   "metadata": {},
   "source": [
    "# Comprensión de listas"
   ]
  },
  {
   "cell_type": "markdown",
   "metadata": {},
   "source": [
    "La compresion de listas utiliza una sintaxis mas compacta que los bucles tradicionales. Se basa en expresiones y bucles, y se utiliza comunmente para construir listas filtradas o transformadas a partir de una secuencia existente, como una cadena, una lista o un rango."
   ]
  },
  {
   "cell_type": "code",
   "execution_count": 1,
   "metadata": {
    "collapsed": true
   },
   "outputs": [
    {
     "name": "stdout",
     "output_type": "stream",
     "text": [
      "['c', 'a', 's', 'a']\n"
     ]
    }
   ],
   "source": [
    "# Método Tradicional\n",
    "lista = []\n",
    "\n",
    "for letra in 'casa':\n",
    "    lista.append(letra)\n",
    "\n",
    "print(lista)"
   ]
  },
  {
   "cell_type": "code",
   "execution_count": 2,
   "metadata": {},
   "outputs": [
    {
     "name": "stdout",
     "output_type": "stream",
     "text": [
      "['c', 'a', 's', 'a']\n"
     ]
    }
   ],
   "source": [
    "# Método con Compresión de Listas\n",
    "\n",
    "lista = [letra for letra in 'casa']\n",
    "\n",
    "print(lista)"
   ]
  },
  {
   "cell_type": "code",
   "execution_count": 3,
   "metadata": {},
   "outputs": [
    {
     "name": "stdout",
     "output_type": "stream",
     "text": [
      "[0, 1, 4, 9, 16, 25, 36, 49, 64, 81, 100]\n"
     ]
    }
   ],
   "source": [
    "#>> Crear una lista con las potencias de 2 de los primeros 10 números\n",
    "\n",
    "# Método Tradicional\n",
    "lista = []\n",
    "\n",
    "for numero in range(0,11):\n",
    "    lista.append(numero**2)\n",
    "print(lista)\n",
    "\n",
    "\n",
    "# Método con Compresión de Listas\n",
    "lista = [num**2 for num in range(0,11)]"
   ]
  },
  {
   "cell_type": "code",
   "execution_count": null,
   "metadata": {},
   "outputs": [],
   "source": [
    "#>> Crear una lista con los multiplos de 2 (los primeros 10)\n",
    "\n",
    "# Método Tradicional\n",
    "lista = []\n",
    "for num in range(0,11):\n",
    "    if num % 2 == 0:\n",
    "        lista.append(num)\n",
    "print(lista)\n",
    "\n",
    "\n",
    "# Método con Compresión de Listas\n",
    "\n",
    "lista = [num for num in range(0,11) if num % 2 == 0] \n",
    "print(lista)"
   ]
  }
 ],
 "metadata": {
  "anaconda-cloud": {},
  "kernelspec": {
   "display_name": "Python [default]",
   "language": "python",
   "name": "python3"
  },
  "language_info": {
   "codemirror_mode": {
    "name": "ipython",
    "version": 3
   },
   "file_extension": ".py",
   "mimetype": "text/x-python",
   "name": "python",
   "nbconvert_exporter": "python",
   "pygments_lexer": "ipython3",
   "version": "3.12.1"
  }
 },
 "nbformat": 4,
 "nbformat_minor": 0
}
