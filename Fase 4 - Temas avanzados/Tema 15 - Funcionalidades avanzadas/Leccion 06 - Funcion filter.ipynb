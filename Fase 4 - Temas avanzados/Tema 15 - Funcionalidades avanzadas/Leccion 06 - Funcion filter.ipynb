{
 "cells": [
  {
   "cell_type": "markdown",
   "metadata": {},
   "source": [
    "# Función filter()"
   ]
  },
  {
   "cell_type": "code",
   "execution_count": 2,
   "metadata": {
    "collapsed": true
   },
   "outputs": [
    {
     "data": {
      "text/plain": [
       "[5, 10, 50]"
      ]
     },
     "execution_count": 2,
     "metadata": {},
     "output_type": "execute_result"
    }
   ],
   "source": [
    "numeros = [2,5,10,23,50,33]\n",
    "\n",
    "def multiple(num):\n",
    "    if num % 5 == 0:\n",
    "        return True\n",
    "    \n",
    "filter(multiple, numeros)\n",
    "\n",
    "# Convertirlo a lista\n",
    "list(filter(multiple, numeros))"
   ]
  },
  {
   "cell_type": "code",
   "execution_count": 5,
   "metadata": {},
   "outputs": [
    {
     "name": "stdout",
     "output_type": "stream",
     "text": [
      "Juan de 15 años\n",
      "Eduardo de 12 años\n"
     ]
    }
   ],
   "source": [
    "class Persona:\n",
    "\n",
    "    def __init__(self, nombre, edad):\n",
    "        self.nombre = nombre\n",
    "        self.edad = edad\n",
    "\n",
    "    def __str__(self):\n",
    "        return f'{self.nombre} de {self.edad} años'\n",
    "    \n",
    "\n",
    "personas = [\n",
    "    Persona('Juan', 15),\n",
    "    Persona('Martha', 35),\n",
    "    Persona('Manuel', 78),\n",
    "    Persona('Eduardo', 12)\n",
    "]\n",
    "\n",
    "\n",
    "menores = filter(lambda persona: persona.edad < 18, personas)\n",
    "\n",
    "for menor in menores:\n",
    "    print(menor)"
   ]
  }
 ],
 "metadata": {
  "anaconda-cloud": {},
  "kernelspec": {
   "display_name": "Python [default]",
   "language": "python",
   "name": "python3"
  },
  "language_info": {
   "codemirror_mode": {
    "name": "ipython",
    "version": 3
   },
   "file_extension": ".py",
   "mimetype": "text/x-python",
   "name": "python",
   "nbconvert_exporter": "python",
   "pygments_lexer": "ipython3",
   "version": "3.12.1"
  }
 },
 "nbformat": 4,
 "nbformat_minor": 0
}
