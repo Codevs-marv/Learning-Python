{
 "cells": [
  {
   "cell_type": "markdown",
   "metadata": {},
   "source": [
    "# Docstrings"
   ]
  },
  {
   "cell_type": "code",
   "execution_count": 2,
   "metadata": {
    "collapsed": true
   },
   "outputs": [
    {
     "name": "stdout",
     "output_type": "stream",
     "text": [
      "Hola Marco !\n",
      "Help on function hola in module __main__:\n",
      "\n",
      "hola(arg)\n",
      "    Este es el docstring de esta funcion\n",
      "\n"
     ]
    }
   ],
   "source": [
    "# ¿CÓMO DOCUMENTAR UNA FUNCION?\n",
    "\n",
    "def hola(arg):\n",
    "    '''Este es el docstring de esta funcion'''\n",
    "    print('Hola', arg, '!')\n",
    "\n",
    "hola('Marco')\n",
    "\n",
    "\n",
    "\n",
    "# ¿CÓMO BUSCAR EL DOCSTRING DE UNA FUNCION?\n",
    "help(hola)"
   ]
  },
  {
   "cell_type": "code",
   "execution_count": null,
   "metadata": {},
   "outputs": [],
   "source": [
    "# ¿CÓMO DOCUMENTAR UNA CLASE?\n",
    "\n",
    "class Clase:\n",
    "    '''Este es el Docstring de esta clase'''\n",
    "\n",
    "    def __init__(self):\n",
    "        '''Este es el docstring del init'''\n",
    "        pass\n",
    "\n",
    "    def metodo(self):\n",
    "        '''Este es el docstring del método'''\n",
    "        pass\n"
   ]
  }
 ],
 "metadata": {
  "anaconda-cloud": {},
  "kernelspec": {
   "display_name": "Python [default]",
   "language": "python",
   "name": "python3"
  },
  "language_info": {
   "codemirror_mode": {
    "name": "ipython",
    "version": 3
   },
   "file_extension": ".py",
   "mimetype": "text/x-python",
   "name": "python",
   "nbconvert_exporter": "python",
   "pygments_lexer": "ipython3",
   "version": "3.12.1"
  }
 },
 "nbformat": 4,
 "nbformat_minor": 1
}
