{
 "cells": [
  {
   "cell_type": "markdown",
   "metadata": {},
   "source": [
    "# Tema 03: Control de flujo (Enunciados)\n",
    "*Nota: Estos ejercicios son optativos para hacer al final de la unidad y están pensados para apoyar tu aprendizaje*."
   ]
  },
  {
   "cell_type": "markdown",
   "metadata": {},
   "source": [
    "**1) Realiza un programa que lea dos números por teclado y permita elegir entre 3 opciones en un menú:** \n",
    "* Mostrar una suma de los dos números\n",
    "* Mostrar una resta de los dos números (el primero menos el segundo)\n",
    "* Mostrar una multiplicación de los dos números\n",
    "* En caso de no introducir una opción válida, el programa informará de que no es correcta."
   ]
  },
  {
   "cell_type": "code",
   "execution_count": 1,
   "metadata": {
    "collapsed": false
   },
   "outputs": [],
   "source": [
    "# Completa el ejercicio aquí\n",
    "n1 = float(input(\"Digite el valor del número 1: \"))\n",
    "n2 = float(input(\"Digite el valor del número 2: \"))\n",
    "\n",
    "print(\"¿Qué quiere hacer? Escoja su respuesta escribiendo el numero correspondiente\")\n",
    "print(\"[1] Sumar los números\")\n",
    "print(\"[2] Restar los números\")\n",
    "print(\"[3] Multiplicar los números\")\n",
    "\n",
    "respuesta = int(input())\n",
    "\n",
    "if respuesta == 1:\n",
    "    print(\"La suma es: \", n1 + n2)\n",
    "elif respuesta == 2:\n",
    "    print(\"La resta es: \", n1 - n2)\n",
    "elif respuesta == 3:\n",
    "    print(\"El resultado del producto es: \", n1 * n2)\n",
    "else:\n",
    "    print(\"No se reconoce el comando ingresado\")"
   ]
  },
  {
   "cell_type": "markdown",
   "metadata": {},
   "source": [
    "**2) Realiza un programa que lea un número impar por teclado. Si el usuario no introduce un número impar, debe repetise el proceso hasta que lo introduzca correctamente.**"
   ]
  },
  {
   "cell_type": "code",
   "execution_count": 2,
   "metadata": {
    "collapsed": false
   },
   "outputs": [],
   "source": [
    "# Completa el ejercicio aquí\n",
    "while True:\n",
    "    numero = float(input(\"Ingrese un número impar cualquiera: \"))\n",
    "    if numero % 2 == 1:\n",
    "        break"
   ]
  },
  {
   "cell_type": "markdown",
   "metadata": {},
   "source": [
    "**3) Realiza un programa que sume todos los números enteros pares desde el 0 hasta el 100:**\n",
    "\n",
    "*Sugerencia: Puedes utilizar la funciones sum() y range() para hacerlo más fácil. El tercer parámetro en la función range(inicio, fin, salto) indica un salto de números, pruébalo.*"
   ]
  },
  {
   "cell_type": "code",
   "execution_count": 3,
   "metadata": {
    "collapsed": false
   },
   "outputs": [],
   "source": [
    "# Completa el ejercicio aquí\n",
    "suma = 0\n",
    "\n",
    "for i in range(0,100,2):\n",
    "    suma += i\n",
    "\n",
    "print(suma)"
   ]
  },
  {
   "cell_type": "markdown",
   "metadata": {},
   "source": [
    "**4) Realiza un programa que pida al usuario cuantos números quiere introducir. Luego lee todos los números y realiza una media aritmética:**\n"
   ]
  },
  {
   "cell_type": "code",
   "execution_count": 4,
   "metadata": {
    "collapsed": false
   },
   "outputs": [],
   "source": [
    "# Completa el ejercicio aquí\n",
    "print(\"¿Cuánto números desea introducir para promediar?\")\n",
    "cantidad = int(input())\n",
    "contador = 0\n",
    "\n",
    "for i in range(cantidad):\n",
    "    num = int(input(\"Ingrese un valor: \"))\n",
    "    contador += num\n",
    "\n",
    "print(contador/cantidad)  # imprime el promedio de los numeros ingresados\n"
   ]
  },
  {
   "cell_type": "markdown",
   "metadata": {},
   "source": [
    "**5) Realiza un programa que pida al usuario un número entero del 0 al 9, y que mientras el número no sea correcto se repita el proceso. Luego debe comprobar si el número se encuentra en la lista de números y notificarlo:**\n",
    "\n",
    "*Consejo: La sintaxis \"valor in lista\" permite comprobar fácilmente si un valor se encuentra en una lista (devuelve True o False)*"
   ]
  },
  {
   "cell_type": "code",
   "execution_count": 5,
   "metadata": {
    "collapsed": false
   },
   "outputs": [],
   "source": [
    "# Completa el ejercicio aquí\n",
    "numeros = [1, 3, 6, 9]\n",
    "numero = int(input(\"Ingrese un numero entero entre 1 y 9: \"))\n",
    "\n",
    "while numero < 1 or numero > 9:\n",
    "    numero = int(input(\"Número fuera de rango. Ingrese un numero entero entre 1 y 9: \"))\n",
    "\n",
    "if numero in numeros:\n",
    "    print(\"El número ingresado es correcto y ya se encuentra en la base de datos\")\n"
   ]
  },
  {
   "cell_type": "markdown",
   "metadata": {},
   "source": [
    "**6) Utilizando la función range() y la conversión a listas genera las siguientes listas dinámicamente:**\n",
    "* Todos los números del 0 al 10 [0, 1, 2, ..., 10]\n",
    "* Todos los números del -10 al 0 [-10, -9, -8, ..., 0]\n",
    "* Todos los números pares del 0 al 20 [0, 2, 4, ..., 20]\n",
    "* Todos los números impares entre -20 y 0 [-19, -17, -15, ..., -1]\n",
    "* Todos los números múltiples de 5 del 0 al 50 [0, 5, 10, ..., 50]\n",
    "\n",
    "*Pista: Utiliza el tercer parámetro de la función range(inicio, fin, salto).*"
   ]
  },
  {
   "cell_type": "code",
   "execution_count": 7,
   "metadata": {
    "collapsed": false
   },
   "outputs": [],
   "source": [
    "# Completa el ejercicio\n",
    "lista1 = list(range(0,11)) # numeros del 0 al 10\n",
    "lista2 = list(range(-10,0)) # nuemros del -10 al 0\n",
    "lista3 = list(range(0,20,2)) # numeros pares del 0 al 20\n",
    "lista4 = list(range(-20,0,3)) # numeros impares del -20 al 0\n",
    "lkista5 = list(range(0,50,5)) # multiplos de 5 del 0 al 50"
   ]
  },
  {
   "cell_type": "markdown",
   "metadata": {},
   "source": [
    "**7) Dadas dos listas, debes generar una tercera con todos los elementos que se repitan en ellas, pero no debe repetise ningún elemento en la nueva lista:**"
   ]
  },
  {
   "cell_type": "code",
   "execution_count": 8,
   "metadata": {
    "collapsed": false
   },
   "outputs": [],
   "source": [
    "# Completa el ejercicio aquí\n",
    "lista1 = [\"h\",\"o\",\"l\",\"a\",\" \",\"m\",\"u\",\"n\",\"d\",\"o\"]\n",
    "lista2 = [\"h\",\"o\",\"l\",\"a\",\" \",\"l\",\"u\",\"n\",\"a\"]\n",
    "\n",
    "lista3 = []\n",
    "\n",
    "for letra in lista1:\n",
    "    if (letra in lista2) and (letra not in lista3): # comprobar que la letra esté en ambas listas pero también que no esté en lista3\n",
    "        lista3.append(letra)\n",
    "\n",
    "print(lista3)"
   ]
  }
 ],
 "metadata": {
  "anaconda-cloud": {},
  "kernelspec": {
   "display_name": "Python [default]",
   "language": "python",
   "name": "python3"
  },
  "language_info": {
   "codemirror_mode": {
    "name": "ipython",
    "version": 3
   },
   "file_extension": ".py",
   "mimetype": "text/x-python",
   "name": "python",
   "nbconvert_exporter": "python",
   "pygments_lexer": "ipython3",
   "version": "3.5.2"
  }
 },
 "nbformat": 4,
 "nbformat_minor": 0
}
